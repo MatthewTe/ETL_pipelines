{
 "cells": [
  {
   "cell_type": "code",
   "execution_count": 63,
   "id": "breeding-trustee",
   "metadata": {},
   "outputs": [],
   "source": [
    "# Importing Necessary Methods\n",
    "import pandas as pd\n",
    "import requests\n",
    "import praw\n",
    "import os"
   ]
  },
  {
   "cell_type": "markdown",
   "id": "meaningful-frank",
   "metadata": {},
   "source": [
    "## A Reddit instance created by the `praw` python package that simplifies access to Reddit API:"
   ]
  },
  {
   "cell_type": "code",
   "execution_count": 61,
   "id": "foster-concern",
   "metadata": {},
   "outputs": [
    {
     "name": "stdout",
     "output_type": "stream",
     "text": [
      "True\n"
     ]
    }
   ],
   "source": [
    "# Creating a praw reddit instance:\n",
    "reddit = praw.Reddit(\n",
    "    \n",
    "    # praw config variables will be extracted from the runtime environment:\n",
    "    client_id=os.environ[\"REDDIT_CLIENT_ID\"],\n",
    "    client_secret=os.environ[\"REDDIT_SECRET_KEY\"],\n",
    "    user_agent=os.environ[\"REDDIT_USER_AGENT\"]\n",
    ")\n",
    "\n",
    "# Should create a read only Reddit instance:\n",
    "print(reddit.read_only)"
   ]
  },
  {
   "cell_type": "markdown",
   "id": "broadband-authority",
   "metadata": {},
   "source": [
    "## Example of Extracting Submissions from the r/wallstreetbets Subreddit:\n",
    "The ETL Pipeline API will extract both `top` for the day, and `rising` submissions:"
   ]
  },
  {
   "cell_type": "code",
   "execution_count": 62,
   "id": "divided-scroll",
   "metadata": {
    "scrolled": true
   },
   "outputs": [
    {
     "name": "stdout",
     "output_type": "stream",
     "text": [
      "TOP: ['l21wmn', 'l27y24', 'l26gcp', 'l22bn5', 'l2i5bv', 'l22qrs', 'l1yj1a', 'l2awkt', 'l2aeno', 'l24457', 'l28vyd', 'l2710q', 'l22kr1', 'l228i9', 'l2chrj', 'l264rw', 'l21zce', 'l28375', 'l23cm4', 'l2bcx0', 'l2g6fr', 'l1ztis', 'l28r7t', 'l2da4q', 'l233ze', 'l2dsyc', 'l2477b', 'l27zm4', 'l28tr5', 'l21fmv', 'l28s74', 'l2b0no', 'l2hx8q', 'l2elyg', 'l235sk', 'l25pg6', 'l2e2qs', 'l28ea8', 'l22k69', 'l2bwzd', 'l24gzo', 'l26i0k', 'l20bd1', 'l22de9', 'l2cnm0', 'l2gbae', 'l28rwr', 'l2iljb', 'l24fyu', 'l1yq52', 'l2c4dh', 'l27ngc', 'l2ljpt', 'l23g8a', 'l225hr', 'l1zn9x', 'l2cq3w', 'l28fnt', 'l2iczw', 'l226us', 'l28qfd', 'l2kdlt', 'l2gxkr', 'l2ih2h', 'l2bt25', 'l27ukv', 'l26l5o', 'l27j3j', 'l23amn', 'l2bl2w', 'l2564l', 'l2b5q2', 'l27kr8', 'l27sar', 'l2amdb', 'l2cwc9', 'l24w2a', 'l24mom', 'l25jjf', 'l1zmt9', 'l21s03', 'l2a9vf', 'l25c2y', 'l29089', 'l1zxdh', 'l2evak', 'l26alf', 'l22lzi', 'l21pwh', 'l21lpo', 'l274hg', 'l25je9', 'l24mm6', 'l285g3', 'l244h3', 'l2970k', 'l21meu', 'l24bdw', 'l27c7u', 'l2g0eg'] \n",
      " 100\n",
      "RISING ['l2npdf', 'l2nljr', 'l2nqva', 'l2nfgo', 'l2n5wv', 'l2mzv5', 'l2na7q', 'l2mxfg', 'l2nn2v', 'l2n9ow', 'l2nox1', 'l2mxh3', 'l2mu6e', 'l2n2al', 'l2nj5a', 'l2i5bv', 'l2ljpt', 'l2g6fr', 'l2awkt', 'l2hx8q', 'l2kdlt', 'l27y24', 'l2chrj'] 23\n"
     ]
    }
   ],
   "source": [
    "# Creating a subredit instance of r/wallstreetbets:\n",
    "wsb = reddit.subreddit('wallstreetbets')\n",
    "top_lst = []\n",
    "rising_lst = []\n",
    "\n",
    "# Extracting the top 10 hot submissions of r/wallstreetbets:\n",
    "for submission in wsb.top('day'):\n",
    "    top_lst.append(submission.id)\n",
    "        \n",
    "\n",
    "    \n",
    "# Extracting the top 10 hot submissions of r/wallstreetbets:\n",
    "for submission in wsb.rising():\n",
    "    rising_lst.append(submission.id)\n",
    "    \n",
    "print(\"TOP:\", top_lst, \"\\n\", len(top_lst))\n",
    "print(\"RISING\", rising_lst, len(rising_lst))"
   ]
  },
  {
   "cell_type": "markdown",
   "id": "disciplinary-nancy",
   "metadata": {},
   "source": [
    "## Example of Reddit Submission from r/wallstreetbets Instance Converted to Markdown:"
   ]
  },
  {
   "cell_type": "markdown",
   "id": "respective-ordinary",
   "metadata": {},
   "source": [
    "### Most of you are helping the GME shorts and you don't even know it\n",
    "Do you remember when you bought that first used car off your friend, only to find out that you couldn't actually **use** the car, because he was actually renting it out to his buddies?\n",
    "\n",
    "Of course your fucking don't, that would be fucking ridiculous. A 5 year-old understands property rights well enough to know this would be beyond stupid.\n",
    "\n",
    "AND YET, this is exactly what your broker is doing to you when you hold shares in your account. Brokers make TONS of money by *loaning your shares to people who want to SHORT your stock*.\n",
    "\n",
    "This is transparent to you as the stock holder. It all happens behind the scenes. Your broker is providing liquidity to shorts courtesy of YOU, which helps the shorts keep down the price of the stock you're holding. If you sell the shares, they gets yours back (or find them elsewhere) to close out your position, all without you being any the wiser than your own assets are being rented out under your nose to the benefit of your broker and of speculators who are taking the opposite side of the trade.\n",
    "\n",
    "If you want to maximize the odds of a real short squeeze and **🚀🚀🚀🚀🚀**ing to the moon, you should stop playing into the hands of the shorts and OPT OUT of your broker's share lending program. Unfortunately, not all brokers allow this. If yours does not, you might be able to bargain with them or worst-case move to a broker that allows opt-out. This is one of the hidden costs of some (but not all) of the low-cost brokers out there.\n",
    "\n",
    "**TL;DR: Your broker lends your shares to shorts which helps drive down prices. You should opt-out of this with your broker, or consider switching brokers to one that allows opt-out and enjoy the ensuing 🚀🚀🚀🚀🚀🚀🚀!**\n",
    "\n",
    "Every broker has a different marketing name for their share lending program (usually some positive-spun euphemism). ***Post the name of your broker and the name of their share-lending program*** (if they have one), and I'll add it to the table here to help others:\n",
    "\n",
    "&#x200B;\n",
    "\n",
    "|*---Broker---*|*---Share-lending program name---*|*---Notes---*|\n",
    "|:-|:-|:-|\n",
    "|Interactive Brokers|Stock Yield Enhancement program|Disable under Settings --> Account Settings. They push you to opt-in during account creation.|\n",
    "|Fidelity|Fully Paid Lending program|Opt-in does not appear to be default and only available for accounts >= 250k|\n",
    "|Webull|Stock Lending Income program|Opt-in is the default. Must explicitly opt-out. Account profile tab --> select change account type and opt out of their stock lending program|\n",
    "|TD Ameritrade|Nothing you can opt-out of with a Margin account.|AFAIK there is no way to opt-out of TDA loaning your shares other than switching to a Cash account.|\n",
    "|Schwab|Security Lending Fully Paid Program (SLFPP)|Mixed reporting of enrollment by default or not. Check to be safe if you have a margin account.|\n",
    "|Degiro|Shares are lent if you have a \"basic account\" plan|Switch to a \"custody account\" (see comment by /u/BitRulez)|\n",
    "|OnVista|None|/u/Frankouccino reports that this broker does not lend out shares|\n",
    "\n",
    "**Edit**: For completeness, I will also mention that switching from a Margin account to a Cash account will stop any broker from lending your shares, even if they don't have an opt-out to make them stop. As I understand, they are only allowed to loan your shares in a Margin account."
   ]
  }
 ],
 "metadata": {
  "kernelspec": {
   "display_name": "Python 3",
   "language": "python",
   "name": "python3"
  },
  "language_info": {
   "codemirror_mode": {
    "name": "ipython",
    "version": 3
   },
   "file_extension": ".py",
   "mimetype": "text/x-python",
   "name": "python",
   "nbconvert_exporter": "python",
   "pygments_lexer": "ipython3",
   "version": "3.8.5"
  }
 },
 "nbformat": 4,
 "nbformat_minor": 5
}
